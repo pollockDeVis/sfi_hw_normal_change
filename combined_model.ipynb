{
 "cells": [
  {
   "cell_type": "code",
   "execution_count": 1,
   "metadata": {},
   "outputs": [
    {
     "name": "stderr",
     "output_type": "stream",
     "text": [
      "/Users/palokbiswas/miniforge3/envs/justice-env/lib/python3.9/site-packages/scipy/__init__.py:146: UserWarning: A NumPy version >=1.17.3 and <1.25.0 is required for this version of SciPy (detected version 1.26.2\n",
      "  warnings.warn(f\"A NumPy version >={np_minversion} and <{np_maxversion}\"\n"
     ]
    }
   ],
   "source": [
    "from mesa import Agent, Model\n",
    "from mesa.time import RandomActivation\n",
    "from mesa.space import NetworkGrid\n",
    "from mesa.datacollection import DataCollector\n",
    "import networkx as nx\n",
    "import random\n",
    "import matplotlib.pyplot as plt\n",
    "import seaborn as sns\n",
    "import numpy as np"
   ]
  },
  {
   "cell_type": "code",
   "execution_count": 2,
   "metadata": {},
   "outputs": [],
   "source": [
    "# def compute_gini(model):\n",
    "#     agent_wealths = [agent.wealth for agent in model.schedule.agents]\n",
    "#     x = sorted(agent_wealths)\n",
    "#     N = model.num_agents\n",
    "#     B = sum(xi * (N - i) for i, xi in enumerate(x)) / (N * sum(x))\n",
    "#     return 1 + (1 / N) - 2 * B\n",
    "\n",
    "def compute_gini(model):\n",
    "\n",
    "    wealths = [agent.wealth for agent in model.schedule.agents]\n",
    "    # Sort the wealths.\n",
    "    wealths = np.sort(wealths)\n",
    "\n",
    "    # Get the number of agents.\n",
    "    n = len(wealths)\n",
    "\n",
    "    # Get the cumulative wealth.\n",
    "    cumulative_wealth = np.cumsum(wealths)\n",
    "\n",
    "    # Calculate the Lorenz curve.\n",
    "    lorenz_curve = cumulative_wealth / cumulative_wealth[-1]\n",
    "\n",
    "    # Calculate the Gini coefficient.\n",
    "    gini = 1 - 2 * np.trapz(lorenz_curve)\n",
    "\n",
    "    return gini\n",
    "\n",
    "\n",
    "class SocialAgent(Agent):\n",
    "    def __init__(self, unique_id, model, initial_wealth, norm): # Norm = 0  or 1 corresponding to selfish or altruistic behavior\n",
    "        super().__init__(unique_id, model)\n",
    "        self.norm = norm\n",
    "        self.wealth = initial_wealth\n",
    "\n",
    "  \n",
    "\n",
    "    def step(self):\n",
    "        self.generate_wealth()\n",
    "        self.expenditure()\n",
    "        self.trade()\n",
    "        self.wealth_transfer()\n",
    "        self.social_influence()\n",
    "\n",
    "\n",
    "    def generate_wealth(self):\n",
    "        # Proportional wealth increase.\n",
    "        self.wealth *= 1 + self.model.growth_rate\n",
    "\n",
    "        # Fixed wealth increase which emulates a salary from a job. # This should depend on employment status.\n",
    "        self.wealth += self.model.salary\n",
    "\n",
    "    def expenditure(self):\n",
    "        self.wealth -= self.model.expenditure\n",
    "    \n",
    "    def trade(self):\n",
    "        neighbors = self.model.grid.get_neighbors(self.pos)\n",
    "        if not neighbors:\n",
    "            return\n",
    "\n",
    "        # Pick a random neighbor\n",
    "        neighbor = self.random.choice(neighbors)\n",
    "\n",
    "        # Wealth transfer between agents based on trade ratio.\n",
    "        trade_amount = self.model.trade_ratio * self.wealth\n",
    "        self.wealth -= trade_amount\n",
    "        neighbor.wealth += trade_amount\n",
    "\n",
    "    def wealth_transfer(self):\n",
    "        neighbors = self.model.grid.get_neighbors(self.pos)\n",
    "        if not neighbors:\n",
    "            return\n",
    "\n",
    "        # Pick a random neighbor\n",
    "        neighbor = self.random.choice(neighbors)\n",
    "\n",
    "        # Check if norm of the agent is altruistic\n",
    "        if self.norm == 1:\n",
    "            # Only donate if the neighbor is poorer than the agent.\n",
    "            if neighbor.wealth < self.wealth:\n",
    "\n",
    "                # Wealth transfer between agents based on trade ratio.\n",
    "                wealth_transfer = self.model.donation_ratio * self.wealth\n",
    "                self.wealth -= wealth_transfer\n",
    "                neighbor.wealth += wealth_transfer\n",
    "\n",
    "                # Update behaviour of the neighbor if neighbor is selfish\n",
    "                if neighbor.norm == 0: # Tit for tat\n",
    "                    neighbor.norm = 1\n",
    "    \n",
    "    def social_influence(self): #TODO need to check\n",
    "        # Change your norm if majority of your neighbors in the network are of the same norm\n",
    "        neighbors = self.model.grid.get_neighbors(self.pos)\n",
    "        if not neighbors:\n",
    "            return\n",
    "        \n",
    "        norm_counts = {}\n",
    "        for neighbor in neighbors:\n",
    "            if neighbor.norm in norm_counts:\n",
    "                norm_counts[neighbor.norm] += 1\n",
    "            else:\n",
    "                norm_counts[neighbor.norm] = 1\n",
    "        \n",
    "        majority_norm = max(norm_counts, key=norm_counts.get)\n",
    "        majority_norm_count = norm_counts[majority_norm]\n",
    "        \n",
    "        if majority_norm_count > len(neighbors) / 2:\n",
    "            self.norm = majority_norm\n",
    "\n",
    "\n",
    "class SocialNormModel(Model):\n",
    "    def __init__(\n",
    "            self, \n",
    "            num_agents, \n",
    "            avg_node_degree, \n",
    "            rewiring_prob, \n",
    "            initial_wealth, \n",
    "            growth_rate, \n",
    "            trade_ratio, \n",
    "            salary, \n",
    "            expenditure, \n",
    "            donation_ratio, \n",
    "            ratio_of_altruistic_agents,\n",
    "            wealth_distribution=\"equal\"\n",
    "\n",
    "                 ):\n",
    "        \n",
    "        self.num_agents = num_agents\n",
    "        self.growth_rate = growth_rate\n",
    "        self.trade_ratio = trade_ratio\n",
    "        self.salary = salary\n",
    "        self.expenditure = expenditure\n",
    "        self.donation_ratio = donation_ratio\n",
    "        self.wealth_distribution = wealth_distribution\n",
    "\n",
    "        # Create network\n",
    "        self.G = nx.watts_strogatz_graph(n=num_agents, k=avg_node_degree, p=rewiring_prob)\n",
    "        self.grid = NetworkGrid(self.G)\n",
    "        self.schedule = RandomActivation(self)\n",
    "\n",
    "        # Generate initial wealth distribution\n",
    "        initial_wealths = self.generate_initial_wealth(initial_wealth)\n",
    "\n",
    "        # Create agents\n",
    "        for i, node in enumerate(self.G.nodes()):\n",
    "            # Determine if the agent is altruistic based on the given ratio\n",
    "            if random.random() < ratio_of_altruistic_agents:\n",
    "                norm = 1\n",
    "            else:\n",
    "                norm = 0\n",
    "\n",
    "            agent = SocialAgent(unique_id=i, model=self, initial_wealth=initial_wealths[i], norm=norm)\n",
    "            self.schedule.add(agent)\n",
    "            self.grid.place_agent(agent, node)\n",
    "\n",
    "        # Data collector (optional)\n",
    "        self.datacollector = DataCollector(\n",
    "            model_reporters={\"Gini\": compute_gini},\n",
    "            agent_reporters={\"Wealth\": \"wealth\", \"Norm\": \"norm\"}\n",
    "        )\n",
    "\n",
    "    def generate_initial_wealth(self, initial_wealth):\n",
    "        # Equal distribution\n",
    "        if self.wealth_distribution == \"equal\":\n",
    "            return [initial_wealth] * self.num_agents\n",
    "\n",
    "        # Unequal distribution\n",
    "        elif self.wealth_distribution == \"unequal\":\n",
    "            return sorted([random.expovariate(1) * initial_wealth for _ in range(self.num_agents)], reverse=True)\n",
    "\n",
    "        # Very Unequal distribution\n",
    "        elif self.wealth_distribution == \"very_unequal\":\n",
    "            return sorted([random.paretovariate(1.5) * initial_wealth for _ in range(self.num_agents)], reverse=True)\n",
    "        \n",
    "        # Normal distribution\n",
    "        elif self.wealth_distribution == \"normal\": \n",
    "            return [random.normalvariate(0, 1) * initial_wealth for _ in range(self.num_agents)]\n",
    "\n",
    "    def step(self):\n",
    "        self.datacollector.collect(self)\n",
    "        self.schedule.step()\n",
    "\n",
    "    def run_model(self, n):\n",
    "        for _ in range(n):\n",
    "            self.step()\n",
    "\n"
   ]
  },
  {
   "cell_type": "markdown",
   "metadata": {},
   "source": [
    "### Equal"
   ]
  },
  {
   "cell_type": "code",
   "execution_count": 13,
   "metadata": {},
   "outputs": [
    {
     "name": "stderr",
     "output_type": "stream",
     "text": [
      "/var/folders/l1/cbpvtb4x2c38sfgzlzdply84c5jfvg/T/ipykernel_26940/357913311.py:31: FutureWarning: The Mesa Model class was not initialized. In the future, you need to explicitly initialize the Model by calling super().__init__() on initialization.\n",
      "  super().__init__(unique_id, model)\n"
     ]
    },
    {
     "data": {
      "image/png": "[encoded data removed]",
      "text/plain": [
       "<Figure size 640x480 with 1 Axes>"
      ]
     },
     "metadata": {},
     "output_type": "display_data"
    }
   ],
   "source": [
    "\n",
    "\n",
    "# Example usage\n",
    "params = {\n",
    "    \"num_agents\": 100, # Can increase this\n",
    "    \"avg_node_degree\": 4,\n",
    "    \"rewiring_prob\": 0.1,\n",
    "    \"initial_wealth\": 100, # Can be heterogenous\n",
    "    \"growth_rate\": 0.01,\n",
    "    \"trade_ratio\": 0.05,\n",
    "    \"salary\": 1, # This can vary\n",
    "    \"expenditure\": 5,\n",
    "    \"donation_ratio\": 0.01,\n",
    "    \"ratio_of_altruistic_agents\": 0.05, # Main thing that we change #0.152 to 0.153\n",
    "    \"wealth_distribution\": \"equal\"\n",
    "}\n",
    "\n",
    "timesteps = 1000\n",
    "model = SocialNormModel(**params)\n",
    "model.run_model(timesteps)\n",
    "\n",
    "# # Data collection results\n",
    "data = model.datacollector.get_agent_vars_dataframe()\n",
    "# print(data)\n",
    "\n",
    "# Plot the percentage of altruistic agents over time\n",
    "norm_counts = data.groupby(\"Step\")[\"Norm\"].value_counts(normalize=True).unstack().fillna(0)\n",
    "norm_counts.plot()\n",
    "plt.show()"
   ]
  },
  {
   "cell_type": "code",
   "execution_count": 4,
   "metadata": {},
   "outputs": [
    {
     "data": {
      "image/png": "[encoded data removed]",
      "text/plain": [
       "<Figure size 640x480 with 1 Axes>"
      ]
     },
     "metadata": {},
     "output_type": "display_data"
    }
   ],
   "source": [
    "gini = model.datacollector.get_model_vars_dataframe()\n",
    "# Plot the Gini coefficient over time\n",
    "g = sns.lineplot(data=gini)\n",
    "g.set(title=\"Gini Coefficient over Time\", ylabel=\"Gini Coefficient\");"
   ]
  },
  {
   "cell_type": "markdown",
   "metadata": {},
   "source": [
    "### Unequal"
   ]
  },
  {
   "cell_type": "code",
   "execution_count": 15,
   "metadata": {},
   "outputs": [
    {
     "name": "stderr",
     "output_type": "stream",
     "text": [
      "/var/folders/l1/cbpvtb4x2c38sfgzlzdply84c5jfvg/T/ipykernel_26940/357913311.py:31: FutureWarning: The Mesa Model class was not initialized. In the future, you need to explicitly initialize the Model by calling super().__init__() on initialization.\n",
      "  super().__init__(unique_id, model)\n"
     ]
    },
    {
     "data": {
      "image/png": "[encoded data removed]",
      "text/plain": [
       "<Figure size 640x480 with 1 Axes>"
      ]
     },
     "metadata": {},
     "output_type": "display_data"
    }
   ],
   "source": [
    "\n",
    "\n",
    "# Example usage\n",
    "params = {\n",
    "    \"num_agents\": 100, # Can increase this\n",
    "    \"avg_node_degree\": 4,\n",
    "    \"rewiring_prob\": 0.1,\n",
    "    \"initial_wealth\": 100, # Can be heterogenous\n",
    "    \"growth_rate\": 0.01,\n",
    "    \"trade_ratio\": 0.05,\n",
    "    \"salary\": 1, # This can vary\n",
    "    \"expenditure\": 5,\n",
    "    \"donation_ratio\": 0.01,\n",
    "    \"ratio_of_altruistic_agents\": 0.05, # Main thing that we change #0.152 to 0.153\n",
    "    \"wealth_distribution\": \"unequal\"\n",
    "}\n",
    "\n",
    "timesteps = 1000\n",
    "model = SocialNormModel(**params)\n",
    "model.run_model(timesteps)\n",
    "\n",
    "# # Data collection results\n",
    "data = model.datacollector.get_agent_vars_dataframe()\n",
    "# print(data)\n",
    "\n",
    "# Plot the percentage of altruistic agents over time\n",
    "norm_counts = data.groupby(\"Step\")[\"Norm\"].value_counts(normalize=True).unstack().fillna(0)\n",
    "norm_counts.plot()\n",
    "plt.show()"
   ]
  },
  {
   "cell_type": "markdown",
   "metadata": {},
   "source": [
    "#### Very Unequal"
   ]
  },
  {
   "cell_type": "code",
   "execution_count": 17,
   "metadata": {},
   "outputs": [
    {
     "name": "stderr",
     "output_type": "stream",
     "text": [
      "/var/folders/l1/cbpvtb4x2c38sfgzlzdply84c5jfvg/T/ipykernel_26940/357913311.py:31: FutureWarning: The Mesa Model class was not initialized. In the future, you need to explicitly initialize the Model by calling super().__init__() on initialization.\n",
      "  super().__init__(unique_id, model)\n"
     ]
    },
    {
     "data": {
      "image/png": "[encoded data removed]",
      "text/plain": [
       "<Figure size 640x480 with 1 Axes>"
      ]
     },
     "metadata": {},
     "output_type": "display_data"
    }
   ],
   "source": [
    "\n",
    "\n",
    "# Example usage\n",
    "params = {\n",
    "    \"num_agents\": 100, # Can increase this\n",
    "    \"avg_node_degree\": 4,\n",
    "    \"rewiring_prob\": 0.1,\n",
    "    \"initial_wealth\": 100, # Can be heterogenous\n",
    "    \"growth_rate\": 0.01,\n",
    "    \"trade_ratio\": 0.05,\n",
    "    \"salary\": 1, # This can vary\n",
    "    \"expenditure\": 5,\n",
    "    \"donation_ratio\": 0.01,\n",
    "    \"ratio_of_altruistic_agents\": 0.05, # Main thing that we change #0.152 to 0.153\n",
    "    \"wealth_distribution\": \"very_unequal\"\n",
    "}\n",
    "\n",
    "timesteps = 1000\n",
    "model = SocialNormModel(**params)\n",
    "model.run_model(timesteps)\n",
    "\n",
    "# # Data collection results\n",
    "data = model.datacollector.get_agent_vars_dataframe()\n",
    "# print(data)\n",
    "\n",
    "# Plot the percentage of altruistic agents over time\n",
    "norm_counts = data.groupby(\"Step\")[\"Norm\"].value_counts(normalize=True).unstack().fillna(0)\n",
    "norm_counts.plot()\n",
    "plt.show()"
   ]
  },
  {
   "cell_type": "markdown",
   "metadata": {},
   "source": [
    "#### Normal"
   ]
  },
  {
   "cell_type": "code",
   "execution_count": 18,
   "metadata": {},
   "outputs": [
    {
     "name": "stderr",
     "output_type": "stream",
     "text": [
      "/var/folders/l1/cbpvtb4x2c38sfgzlzdply84c5jfvg/T/ipykernel_26940/357913311.py:31: FutureWarning: The Mesa Model class was not initialized. In the future, you need to explicitly initialize the Model by calling super().__init__() on initialization.\n",
      "  super().__init__(unique_id, model)\n"
     ]
    },
    {
     "data": {
      "image/png": "[encoded data removed]",
      "text/plain": [
       "<Figure size 640x480 with 1 Axes>"
      ]
     },
     "metadata": {},
     "output_type": "display_data"
    }
   ],
   "source": [
    "\n",
    "\n",
    "# Example usage\n",
    "params = {\n",
    "    \"num_agents\": 100, # Can increase this\n",
    "    \"avg_node_degree\": 4,\n",
    "    \"rewiring_prob\": 0.1,\n",
    "    \"initial_wealth\": 100, # Can be heterogenous\n",
    "    \"growth_rate\": 0.01,\n",
    "    \"trade_ratio\": 0.05,\n",
    "    \"salary\": 1, # This can vary\n",
    "    \"expenditure\": 5,\n",
    "    \"donation_ratio\": 0.01,\n",
    "    \"ratio_of_altruistic_agents\": 0.05, # Main thing that we change #0.152 to 0.153\n",
    "    \"wealth_distribution\": \"normal\"\n",
    "}\n",
    "\n",
    "timesteps = 1000\n",
    "model = SocialNormModel(**params)\n",
    "model.run_model(timesteps)\n",
    "\n",
    "# # Data collection results\n",
    "data = model.datacollector.get_agent_vars_dataframe()\n",
    "# print(data)\n",
    "\n",
    "# Plot the percentage of altruistic agents over time\n",
    "norm_counts = data.groupby(\"Step\")[\"Norm\"].value_counts(normalize=True).unstack().fillna(0)\n",
    "norm_counts.plot()\n",
    "plt.show()"
   ]
  },
  {
   "cell_type": "code",
   "execution_count": null,
   "metadata": {},
   "outputs": [],
   "source": []
  }
 ],
 "metadata": {
  "kernelspec": {
   "display_name": "justice-env",
   "language": "python",
   "name": "python3"
  },
  "language_info": {
   "codemirror_mode": {
    "name": "ipython",
    "version": 3
   },
   "file_extension": ".py",
   "mimetype": "text/x-python",
   "name": "python",
   "nbconvert_exporter": "python",
   "pygments_lexer": "ipython3",
   "version": "3.9.10"
  }
 },
 "nbformat": 4,
 "nbformat_minor": 2
}
