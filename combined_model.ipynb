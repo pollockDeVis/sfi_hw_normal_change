{
 "cells": [
  {
   "cell_type": "code",
   "execution_count": 1,
   "metadata": {},
   "outputs": [],
   "source": [
    "from mesa import Agent, Model\n",
    "from mesa.time import RandomActivation\n",
    "from mesa.space import NetworkGrid\n",
    "from mesa.datacollection import DataCollector\n",
    "import networkx as nx\n",
    "import random\n",
    "import matplotlib.pyplot as plt"
   ]
  },
  {
   "cell_type": "code",
   "execution_count": 2,
   "metadata": {},
   "outputs": [],
   "source": [
    "class SocialAgent(Agent):\n",
    "    def __init__(self, unique_id, model, initial_wealth, norm): # Norm = 0  or 1 corresponding to selfish or altruistic behavior\n",
    "        super().__init__(unique_id, model)\n",
    "        self.norm = norm\n",
    "        self.wealth = initial_wealth\n",
    "\n",
    "  \n",
    "\n",
    "    def step(self):\n",
    "        self.generate_wealth()\n",
    "        self.expenditure()\n",
    "        self.trade()\n",
    "        self.wealth_transfer()\n",
    "        self.social_influence()\n",
    "\n",
    "\n",
    "    def generate_wealth(self):\n",
    "        # Proportional wealth increase.\n",
    "        self.wealth *= 1 + self.model.growth_rate\n",
    "\n",
    "        # Fixed wealth increase which emulates a salary from a job. # This should depend on employment status.\n",
    "        self.wealth += self.model.salary\n",
    "\n",
    "    def expenditure(self):\n",
    "        self.wealth -= self.model.expenditure\n",
    "    \n",
    "    def trade(self):\n",
    "        neighbors = self.model.grid.get_neighbors(self.pos)\n",
    "        if not neighbors:\n",
    "            return\n",
    "\n",
    "        # Pick a random neighbor\n",
    "        neighbor = self.random.choice(neighbors)\n",
    "\n",
    "        # Wealth transfer between agents based on trade ratio.\n",
    "        trade_amount = self.model.trade_ratio * self.wealth\n",
    "        self.wealth -= trade_amount\n",
    "        neighbor.wealth += trade_amount\n",
    "\n",
    "    def wealth_transfer(self):\n",
    "        neighbors = self.model.grid.get_neighbors(self.pos)\n",
    "        if not neighbors:\n",
    "            return\n",
    "\n",
    "        # Pick a random neighbor\n",
    "        neighbor = self.random.choice(neighbors)\n",
    "\n",
    "        # Check if norm of the agent is altruistic\n",
    "        if self.norm == 1:\n",
    "            # Only donate if the neighbor is poorer than the agent.\n",
    "            if neighbor.wealth < self.wealth:\n",
    "\n",
    "                # Wealth transfer between agents based on trade ratio.\n",
    "                wealth_transfer = self.model.donation_ratio * self.wealth\n",
    "                self.wealth -= wealth_transfer\n",
    "                neighbor.wealth += wealth_transfer\n",
    "\n",
    "                # Update behaviour of the neighbor if neighbor is selfish\n",
    "                if neighbor.norm == 0: # Tit for tat\n",
    "                    neighbor.norm = 1\n",
    "    \n",
    "    def social_influence(self): #TODO need to check\n",
    "        # Change your norm if majority of your neighbors in the network are of the same norm\n",
    "        neighbors = self.model.grid.get_neighbors(self.pos)\n",
    "        if not neighbors:\n",
    "            return\n",
    "        \n",
    "        norm_counts = {}\n",
    "        for neighbor in neighbors:\n",
    "            if neighbor.norm in norm_counts:\n",
    "                norm_counts[neighbor.norm] += 1\n",
    "            else:\n",
    "                norm_counts[neighbor.norm] = 1\n",
    "        \n",
    "        majority_norm = max(norm_counts, key=norm_counts.get)\n",
    "        majority_norm_count = norm_counts[majority_norm]\n",
    "        \n",
    "        if majority_norm_count > len(neighbors) / 2:\n",
    "            self.norm = majority_norm\n",
    "\n",
    "\n",
    "class SocialNormModel(Model):\n",
    "    def __init__(self, num_agents, avg_node_degree, rewiring_prob, initial_wealth, growth_rate, trade_ratio, salary, expenditure, donation_ratio, ratio_of_altruistic_agents):\n",
    "        self.num_agents = num_agents\n",
    "        self.growth_rate = growth_rate\n",
    "        self.trade_ratio = trade_ratio\n",
    "        self.salary = salary\n",
    "        self.expenditure = expenditure\n",
    "        self.donation_ratio = donation_ratio\n",
    "\n",
    "        # Create network\n",
    "        self.G = nx.watts_strogatz_graph(n=num_agents, k=avg_node_degree, p=rewiring_prob)\n",
    "        self.grid = NetworkGrid(self.G)\n",
    "        self.schedule = RandomActivation(self)\n",
    "\n",
    "        # Create agents\n",
    "        for i, node in enumerate(self.G.nodes()):\n",
    "            # Determine if the agent is altruistic based on the given ratio\n",
    "            if random.random() < ratio_of_altruistic_agents:\n",
    "                norm = 1\n",
    "            else:\n",
    "                norm = 0\n",
    "\n",
    "            agent = SocialAgent(unique_id=i, model=self, initial_wealth=initial_wealth, norm=norm)\n",
    "            self.schedule.add(agent)\n",
    "            self.grid.place_agent(agent, node)\n",
    "\n",
    "        # Data collector (optional)\n",
    "        self.datacollector = DataCollector(\n",
    "            agent_reporters={\"Wealth\": \"wealth\", \"Norm\": \"norm\"}\n",
    "        )\n",
    "\n",
    "    def step(self):\n",
    "        self.datacollector.collect(self)\n",
    "        self.schedule.step()\n",
    "\n",
    "    def run_model(self, n):\n",
    "        for _ in range(n):\n",
    "            self.step()\n",
    "\n"
   ]
  },
  {
   "cell_type": "code",
   "execution_count": 23,
   "metadata": {},
   "outputs": [
    {
     "name": "stderr",
     "output_type": "stream",
     "text": [
      "/var/folders/l1/cbpvtb4x2c38sfgzlzdply84c5jfvg/T/ipykernel_24089/2635958565.py:3: FutureWarning: The Mesa Model class was not initialized. In the future, you need to explicitly initialize the Model by calling super().__init__() on initialization.\n",
      "  super().__init__(unique_id, model)\n"
     ]
    },
    {
     "name": "stdout",
     "output_type": "stream",
     "text": [
      "                    Wealth  Norm\n",
      "Step AgentID                    \n",
      "0    0        1.000000e+02     0\n",
      "     1        1.000000e+02     0\n",
      "     2        1.000000e+02     0\n",
      "     3        1.000000e+02     0\n",
      "     4        1.000000e+02     1\n",
      "...                    ...   ...\n",
      "999  56      -9.095842e+06     1\n",
      "     24      -9.319917e+06     1\n",
      "     88      -9.965935e+06     1\n",
      "     21      -2.629540e+06     1\n",
      "     42      -7.085493e+06     1\n",
      "\n",
      "[100000 rows x 2 columns]\n"
     ]
    }
   ],
   "source": [
    "\n",
    "\n",
    "# Example usage\n",
    "params = {\n",
    "    \"num_agents\": 100, # Can increase this\n",
    "    \"avg_node_degree\": 4,\n",
    "    \"rewiring_prob\": 0.1,\n",
    "    \"initial_wealth\": 100, # Can be heterogenous\n",
    "    \"growth_rate\": 0.01,\n",
    "    \"trade_ratio\": 0.05,\n",
    "    \"salary\": 1, # This can vary\n",
    "    \"expenditure\": 5,\n",
    "    \"donation_ratio\": 0.01,\n",
    "    \"ratio_of_altruistic_agents\": 0.153 # Main thing that we change #0.152 to 0.153\n",
    "}\n",
    "\n",
    "timesteps = 1000\n",
    "model = SocialNormModel(**params)\n",
    "model.run_model(timesteps)\n",
    "\n",
    "# Data collection results\n",
    "data = model.datacollector.get_agent_vars_dataframe()\n",
    "print(data)"
   ]
  },
  {
   "cell_type": "code",
   "execution_count": 24,
   "metadata": {},
   "outputs": [
    {
     "data": {
      "text/plain": [
       "<Axes: xlabel='Step'>"
      ]
     },
     "execution_count": 24,
     "metadata": {},
     "output_type": "execute_result"
    },
    {
     "data": {
      "image/png": "[encoded data removed]",
      "text/plain": [
       "<Figure size 640x480 with 1 Axes>"
      ]
     },
     "metadata": {},
     "output_type": "display_data"
    }
   ],
   "source": [
    "# Plot the percentage of altruistic agents over time\n",
    "norm_counts = data.groupby(\"Step\")[\"Norm\"].value_counts(normalize=True).unstack().fillna(0)\n",
    "norm_counts.plot()\n"
   ]
  },
  {
   "cell_type": "code",
   "execution_count": null,
   "metadata": {},
   "outputs": [],
   "source": []
  }
 ],
 "metadata": {
  "kernelspec": {
   "display_name": "justice-env",
   "language": "python",
   "name": "python3"
  },
  "language_info": {
   "codemirror_mode": {
    "name": "ipython",
    "version": 3
   },
   "file_extension": ".py",
   "mimetype": "text/x-python",
   "name": "python",
   "nbconvert_exporter": "python",
   "pygments_lexer": "ipython3",
   "version": "3.9.10"
  }
 },
 "nbformat": 4,
 "nbformat_minor": 2
}
