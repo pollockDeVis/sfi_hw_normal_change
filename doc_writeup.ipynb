{
 "cells": [
  {
   "cell_type": "markdown",
   "metadata": {},
   "source": [
    "### Introduction\n",
    "\n",
    "Inspired by ideas of  **positive** and **normative** economics\n",
    "\n",
    "We imagine an artificial economy where most people are self-centric (egoism). We want to see how this society can evolve into one where altruism becomes the norm.\n",
    "\n",
    "Specifically, we explore:\n",
    "Proportion of Altruists: How the initial mix of altruistic individuals influences societal change.\n",
    "\n",
    "Wealth Distribution: How the starting wealth levels among individuals affect the shift from self-centeredness to altruism.\n",
    "\n",
    "Network Structure: How the network structure of the society influences the spread of altruism. We use two network structures: Barbasi-Albert and Renyi Erdos. This is because Barbasi-Albert networks likely simulate clusters of altruists and self-centric individuals, while Renyi Erdos networks are simluating small-world networks.\n",
    "\n",
    "Norm is a norm when majority of the population adopts a certain behaviour (more than 80%)\n",
    "\n",
    "\n",
    "\n"
   ]
  },
  {
   "cell_type": "markdown",
   "metadata": {},
   "source": [
    "### Key Assumptions\n",
    "\n",
    "1. **Wealth Generation**: Wealth grows at a fixed rate emulating returns on investment\n",
    "Salary is proportional to the initial wealth \n",
    "Fixed expenditure per timestep \n",
    "\n",
    "2. **Trade**: Fixed network throughout the run. Two network structures are used\n",
    "\n",
    "\n",
    "Network topology is Small-world network\n",
    "\n",
    "\n",
    "No Debt: Only trade when you have wealth\n",
    "\n",
    "\n",
    "Random Pairing of agents randomly select a neighbor for trade interactions.This random pairing reflects the stochastic nature of market interactions or social exchanges.\n",
    "\n",
    "\n",
    "Wealth Transfer during trade -  agents transfer a predefined proportion of their wealth to the selected neighbor. This transfer simulates market transactions or resource sharing, where the wealthier agent's trade benefits the poorer agent if the trade criteria are met.\n",
    "\n",
    "3. **Societal Influence**: Agents are influenced by majority of their neighbors' behavior. Agent adopts the majority norm with a certain probability. \n",
    "\n",
    "4. **Altruistic Wealth Redistribution**: There is a donation pool where agents can donate a fixed proportion of their wealth. This donation pool is distributed equally among all agents if the agents' wealth falls below the sufficiency threshold. This redistribution mechanism simulates social welfare programs."
   ]
  },
  {
   "cell_type": "markdown",
   "metadata": {},
   "source": [
    "### Model Initialization\n",
    "\n",
    "1. **Initial Wealth**: Each agent is initialized with a predefined amount of wealth. The distribution of this initial wealth can be equal, unequal (exponential), or highly unequal (pareto) \n",
    "\n",
    "\n",
    "2. **Initial proportion of Altruistic Agents**: A small percentage of agents are altruistic (minority) at the start of the model run. We assume that if majority (more than 80%) adopt a certain behaviour, it is considered the norm"
   ]
  },
  {
   "cell_type": "code",
   "execution_count": null,
   "metadata": {
    "vscode": {
     "languageId": "plaintext"
    }
   },
   "outputs": [],
   "source": [
    "Easy Norm Transition: \n",
    "\n",
    "\n",
    "Hard Norm Transition: \n",
    "\n",
    "\n",
    "#### Future Work\n",
    "\n",
    "Capturing Time Preference: Want to test if being altruistic can be good for the economy in the long run and hence check the total size of the economy at the end of the run with different proportions of agents with differetn time preference\n",
    "\n",
    "\n",
    "Utility Function for each agent - Optimizing utility\n",
    "\n",
    "Parameter sweep and batch run over various random seed to the impact of stochasticity"
   ]
  },
  {
   "cell_type": "markdown",
   "metadata": {
    "vscode": {
     "languageId": "plaintext"
    }
   },
   "source": [
    "# Insert image from local file\n",
    "![Image](./change.gif)\n",
    "\n",
    "### Key Assumptions\n",
    "\n",
    "1. **Wealth Generation**: Wealth grows at a fixed rate emulating returns on investment. Salary is proportional to the initial wealth, and there is a  expenditure that varies between a minimum and maximum expenditure per timestep.\n",
    "\n",
    "2. **Trade**: A fixed network structure is used throughout the simulation run. Two network structures are considered: Barabasi-Albert and Erdos-Renyi networks. Agents randomly select a neighbor for trade interactions, reflecting the stochastic nature of market interactions or social exchanges. Trading only occurs when the agent have a positive wealth. During trade, agents transfer a predefined proportion of their wealth to the selected neighbor, simulating market transactions or resource sharing.\n",
    "\n",
    "3. **Sufficiency Threshold**: Agents are considered to have sufficient wealth if their wealth is above a certain threshold. Agents below this threshold will receive donations from altruistic agents.\n",
    "\n",
    "3. **Societal Influence**: Agents are influenced by the majority behavior of their neighbors. An agent adopts the majority norm with a certain probability.\n",
    "\n",
    "4. **Altruistic Wealth Redistribution**: There is a donation pool where **altruistic** agents can donate a fixed proportion of their wealth. This donation pool is distributed equally among all agents whose wealth falls below a sufficiency threshold. This redistribution mechanism simulates social welfare programs.\n",
    "\n",
    "5. **Employment Dynamics**: Agents have an 80% chance of being employed initially. Unemployed agents have a probability of finding a job, while employed agents have a probability of being laid off.\n",
    "\n",
    "6. **Norm Change Probability**: Agents have a probability of changing their norm to the majority norm of their neighbors. Agents also have a probability of changing their norm when they receive donations from altruistic agents.\n",
    "\n",
    "### Model Initialization\n",
    "\n",
    "1. **Initial Wealth**: Each agent is initialized with a predefined amount of wealth. The distribution of this initial wealth can be:\n",
    "   - Equal\n",
    "   - Unequal (exponential distribution)\n",
    "   - Very Unequal (Pareto distribution)\n",
    "\n",
    "\n",
    "2. **Initial Proportion of Altruistic Agents**: A small percentage of agents are altruistic (minority) at the start of the model run. A behavior is considered the norm if a majority (more than 80%) of the population adopts it.\n",
    "\n",
    "3. **Network Structure**: Two network structures are considered:\n",
    "   - Barabasi-Albert\n",
    "   - Erdos-Renyi\n",
    "\n",
    "\n",
    "\n",
    "\n",
    "\n",
    "\n"
   ]
  },
  {
   "cell_type": "markdown",
   "metadata": {
    "vscode": {
     "languageId": "plaintext"
    }
   },
   "source": [
    "\n",
    "Liu, P. P., Safin, V., Yang, B., & Luhmann, C. C. (2015). Direct and indirect influence of altruistic behavior in a social network. PloS one, 10(10), e0140357.\n",
    "\n",
    "In a study examining the transmission of selfish and generous behavior through social networks, participants engaged in public goods games arranged in a chain network to unambiguously trace influence paths. Findings confirmed direct social influence, with individuals reciprocating generosity received. However, no indirect influence was detected, suggesting altruistic behavior does not cascade through networks. Interestingly, selfish behavior had a markedly stronger impact than generosity, primarily mediated by expectations about future partners' behavior. These outcomes highlight the adaptive nature of social influence driven by anticipated interactions. (Liu et al., 2015)"
   ]
  },
  {
   "cell_type": "markdown",
   "metadata": {},
   "source": [
    "Sun, Z., Ye, C., He, Z., & Yu, W. (2020). Behavioral intention promotes generalized reciprocity: Evidence from the dictator game. Frontiers in Psychology, 11, 772.\n",
    "\n",
    "A study investigating generalized reciprocity in the dictator game revealed that individuals who received generosity tended to reciprocate generously, while those treated greedily reciprocated less favorably. The effect of the dictator's intention was significant: participants who received intentional generous offers behaved more generously towards others compared to those receiving intentional greedy offers. However, when offers were randomly given by a computer (unintentional), the previous treatment's nature had little relevance to participants' reciprocal behaviors. These results underscore the role of intentionality in promoting generalized reciprocity and encouraging positive social interactions. (Sun et al., 2020)"
   ]
  },
  {
   "cell_type": "markdown",
   "metadata": {},
   "source": [
    "Trivers, R. L. (1971). The evolution of reciprocal altruism. The Quarterly review of biology, 46(1), 35-57.\n",
    "\n",
    "A presented model explains the natural selection of reciprocally altruistic behavior, demonstrating how cheaters (non-reciprocators) are naturally selected against. The model accounts for the evolution of altruism in three contexts: cleaning symbioses, warning cries in birds, and human reciprocal altruism. Specifically, it elucidates how various psychological traits—such as friendship, dislike, moralistic aggression, gratitude, sympathy, trust, suspicion, trustworthiness, guilt, and certain dishonest behaviors—serve as adaptations regulating human altruistic behavior. The model posits that individuals possess both altruistic and cheating tendencies, with their expression influenced by developmental factors tailored to the local social and ecological environment. (Trivers, 1971)"
   ]
  },
  {
   "cell_type": "markdown",
   "metadata": {},
   "source": [
    "Rilling, J. K., Gutman, D. A., Zeh, T. R., Pagnoni, G., Berns, G. S., & Kilts, C. D. (2002). A neural basis for social cooperation. Neuron, 35(2), 395-405.\n",
    "\n",
    "A study using fMRI to explore the neurobiological basis of cooperative behavior in an iterated Prisoner's Dilemma Game revealed that mutual cooperation activates brain regions associated with reward processing, including the nucleus accumbens, caudate nucleus, ventromedial frontal/orbitofrontal cortex, and rostral anterior cingulate cortex. This neural activation suggests that these areas reinforce reciprocal altruism by providing positive reinforcement, thus motivating individuals to resist the temptation to act selfishly and instead reciprocate favors. (Rilling et al., 2002)"
   ]
  },
  {
   "cell_type": "markdown",
   "metadata": {},
   "source": [
    "Axelrod, R., & Hamilton, W. D. (1981). The evolution of cooperation. science, 211(4489), 1390-1396.\n",
    "\n",
    "A model based on the evolutionarily stable strategy concept in the context of the Prisoner's Dilemma game shows how cooperative behavior can develop in an asocial world, thrive amidst diverse strategies, and resist invasion once established. The model's deductions and results from a computer tournament indicate that probabilistic interactions between pairs of individuals can lead to the emergence and stability of reciprocity-based cooperation. The model's potential applications extend to areas such as territoriality, mating, and disease dynamics. (Axelrod & Hamilton, 1981)"
   ]
  },
  {
   "cell_type": "markdown",
   "metadata": {},
   "source": [
    "Fowler, J. H., & Christakis, N. A. (2010). Cooperative behavior cascades in human social networks. Proceedings of the National Academy of Sciences, 107(12), 5334-5338.\n",
    "\n",
    "Experimental studies reveal that cooperative behavior can cascade through human social networks, as shown by laboratory experiments with subjects randomly assigned to different groups to play single-shot public goods games. In both standard and punishment-based public goods games, individuals were influenced by their group members' contributions in future interactions with new individuals. This influence persisted over multiple periods and spread up to three degrees of separation. The study found that each additional contribution to the public good in the initial period was effectively tripled by subsequent contributions from others influenced by the initial act of cooperation. These findings demonstrate that cooperative behaviors can propagate significantly through social networks. (Fowler & Christakis, 2010)"
   ]
  },
  {
   "cell_type": "markdown",
   "metadata": {},
   "source": [
    "\n",
    "Kago, K., & Venkataraman, P. (2023). Possibility of conjunction between altruism and egoism. Humanities and Social Sciences Communications, 10(1), 1-5.\n",
    "\n",
    "Altruism and egoism are two distinct motivational drivers for actions: altruistic actions aim to benefit others, while egoistic actions aim to benefit oneself. Strictly defined, an altruistic action loses its label if it provides any direct or indirect benefit to the actor, whereas psychological egoism asserts that all actions are inherently self-interested. This dichotomy often leads to conceptual misunderstandings. An alternative perspective suggests that the apparent dichotomy may result from committing motivational extremism on a conceptual level. It proposes that both altruism and egoism could originate from a single motivational source, manifesting in different actions based on context. (Kago & Venkataraman, 2023)"
   ]
  },
  {
   "cell_type": "markdown",
   "metadata": {
    "vscode": {
     "languageId": "plaintext"
    }
   },
   "source": [
    "Rand, D. G., Arbesman, S., & Christakis, N. A. (2011). Dynamic social networks promote cooperation in experiments with humans. Proceedings of the National Academy of Sciences, 108(48), 19193-19198.\n",
    "\n",
    "Human interactions, structured within dynamic social networks, allow individuals to make or break connections based on the cooperative or defective behavior of their social partners, enabling conditional actions. Experimental evidence shows that strategic formation and dissolution of network links stabilize cooperation in large groups. Cooperation tends to decay over time in both randomly shuffled and permanently fixed networks. Infrequently updated networks also fail to maintain cooperation. However, when individuals frequently update their connections, they break links with defectors and form new links with cooperators, maintaining high levels of cooperation and leading to significant network restructuring. These findings align with evolutionary game theoretic models and highlight the crucial role dynamic social networks play in sustaining large-scale human cooperation. (Rand et al., 2011)\n",
    "\n",
    "\n"
   ]
  },
  {
   "cell_type": "markdown",
   "metadata": {},
   "source": [
    "### Report: Evolution of Altruistic Behavior in a Self-Centered Society\n",
    "\n",
    "#### Introduction\n",
    "This study investigates the conditions under which a society initially dominated by self-centered individuals can evolve to adopt altruistic behavior as the norm. By examining the effects of factors such as the initial proportion of altruistic individuals, wealth distribution, and social network structure, we aim to understand the dynamics that facilitate the spread of altruism. Two types of networks are used: Barabasi-Albert and Erdos-Renyi, alongside mechanisms for wealth growth, trade, social influence, wealth redistribution by altruists, and employment changes.\n",
    "\n",
    "#### Literature Insights\n",
    "Existing research offers several insights into how altruism and cooperation evolve within societies:\n",
    "\n",
    "1. **Direct Influence of Generosity and Selfishness**: Liu et al. (2015) found that individuals reciprocate generosity, reinforcing direct social influence, while selfish behavior exerts a stronger impact, affecting expectations about future interactions.\n",
    "\n",
    "2. **Natural Selection and Psychological Traits**: Trivers (1971) provides a model explaining the natural selection of reciprocal altruism, illustrating how psychological traits such as trust, sympathy, and guilt help regulate altruistic behavior and suppress cheating.\n",
    "\n",
    "3. **Neurobiological Basis of Cooperation**: Rilling et al. (2002) demonstrated that mutual cooperation activates brain regions associated with reward processing, highlighting how these neural mechanisms reinforce reciprocal altruism.\n",
    "\n",
    "4. **Evolutionarily Stable Strategies**: Axelrod & Hamilton (1981) showed that reciprocity-based cooperation can emerge and persist in an asocial environment through probabilistic interactions among individuals.\n",
    "\n",
    "5. **Cascade Effect of Cooperative Behavior**: Fowler & Christakis (2010) revealed that cooperative behavior can cascade through social networks, with contributions to the public good influencing subsequent acts of cooperation up to three degrees of separation.\n",
    "\n",
    "6. **Dynamic Social Networks**: Rand et al. (2011) found that allowing individuals to frequently update their social connections leads to high levels of sustained cooperation, as cooperators establish links with each other and break ties with defectors.\n",
    "\n",
    "7. **Altruism and Egoism**: Kago & Venkataraman (2023) discussed the blurred lines between altruism and egoism, suggesting that both might stem from a common motivational source expressed differently depending on context.\n",
    "\n",
    "#### Methodology\n",
    "Our model includes the following components:\n",
    "- **Wealth Growth and Trade**: Agents participate in economic transactions that can increase their wealth.\n",
    "- **Social Influence**: Agent behavior is influenced by their neighbors in the network.\n",
    "- **Wealth Redistribution by Altruists**: Altruistic individuals redistribute part of their wealth to others.\n",
    "- **Employment Changes**: Agents can change their employment status, affecting their wealth and social influence.\n",
    "- **Social Network Structures**: We compare the effects of Barabasi-Albert (scale-free) and Erdos-Renyi (random) networks.\n",
    "\n",
    "Norm changes occur when agents receive a donation, influencing their probability of becoming altruistic, and this change is further modulated by the behavior of their neighbors.\n",
    "\n",
    "#### Findings and Discussion\n",
    "Based on the synthesis of the literature and our model's structure, the conditions leading to a predominantly altruistic society likely include:\n",
    "- High initial proportion of altruistic individuals to seed cooperative norms.\n",
    "- Wealth distributions that minimize extreme inequality, enabling altruists to make significant impressions through redistribution.\n",
    "- Social network structures that facilitate the rapid spread of norms, with the Barabasi-Albert network potentially being more favorable due to its hubs that accelerate norm propagation.\n",
    "- Regular updating of social connections to align altruists together, similar to the findings of Rand et al. (2011).\n",
    "- Positive reinforcement mechanisms, as indicated by Rilling et al. (2002), supporting cooperative behavior through socio-economic rewards.\n",
    "\n",
    "These elements collectively contribute to a tipping point where altruistic behavior becomes self-sustaining and spreads through the society, ultimately transforming a predominantly self-centered population into an altruistically dominant one.\n",
    "\n",
    "\n",
    "\n",
    "#### Conclusion\n",
    "Understanding the interplay of wealth distribution, social networks, and behavioral influence reveals crucial insights into fostering altruistic societies. By leveraging these dynamics, it is possible to encourage the adoption of altruistic norms, leading to more cooperative and mutually beneficial social systems.\n",
    "\n",
    "\n",
    "#### References\n",
    "- Axelrod, R., & Hamilton, W. D. (1981). The evolution of cooperation. Science, 211(4489), 1390-1396.\n",
    "- Fowler, J. H., & Christakis, N. A. (2010). Cooperative behavior cascades in human social networks. Proceedings of the National Academy of Sciences, 107(12), 5334-5338.\n",
    "- Kago, K., & Venkataraman, P. (2023). Possibility of conjunction between altruism and egoism. Humanities and Social Sciences Communications, 10(1), 1-5.\n",
    "- Liu, P. P., Safin, V., Yang, B., & Luhmann, C. C. (2015). Direct and indirect influence of altruistic behavior in a social network. PloS one, 10(10), e0140357.\n",
    "- Rand, D. G., Arbesman, S., & Christakis, N. A. (2011). Dynamic social networks promote cooperation in experiments with humans. Proceedings of the National Academy of Sciences, 108(48), 19193-19198.\n",
    "- Rilling, J. K., Gutman, D. A., Zeh, T. R., Pagnoni, G., Berns, G. S., & Kilts, C. D. (2002). A neural basis for social cooperation. Neuron, 35(2), 395-405.\n",
    "- Sun, Z., Ye, C., He, Z., & Yu, W. (2020). Behavioral intention promotes generalized reciprocity: Evidence from the dictator game. Frontiers in Psychology, 11, 772.\n",
    "- Trivers, R. L. (1971). The evolution of reciprocal altruism. The Quarterly review of biology, 46(1), 35-57.\n"
   ]
  },
  {
   "cell_type": "markdown",
   "metadata": {
    "vscode": {
     "languageId": "plaintext"
    }
   },
   "source": [
    "#### Introduction From Egoism to Altruism\n",
    "\n",
    "This study investigates the conditions under which a society initially dominated by self-centred individuals can evolve to adopt altruistic behaviour as the norm. Inspired by positive and normative economics concepts, we create an artificial economy initially characterized by egoism and explore how it can transition to one where altruism prevails. We examine factors such as the initial proportion of altruistic individuals, wealth distribution, and social network structures. Two network types are used: Barabasi-Albert, which likely simulates clusters of like-minded individuals, and Erdos-Renyi, which simulates small-world networks.  Some dynamics that are modelled include wealth growth, trade, social influence, wealth redistribution by altruists, and employment changes. A behaviour reaches normative status when more than 80% of the population adopts it.\n",
    "\n",
    "\n",
    "### Key Assumptions\n",
    "\n",
    "1. **Wealth Generation**: Wealth grows at a fixed rate emulating returns on investment. Salary is proportional to the initial wealth, and there is a  expenditure that varies between a minimum and maximum expenditure per timestep.\n",
    "\n",
    "2. **Trade**: A fixed network structure is used throughout the simulation run. Two network structures are considered: Barabasi-Albert and Erdos-Renyi networks. Agents randomly select a neighbor for trade interactions, reflecting the stochastic nature of market interactions or social exchanges. Trading only occurs when the agent have a positive wealth. During trade, agents transfer a predefined proportion of their wealth to the selected neighbor, simulating market transactions or resource sharing.\n",
    "\n",
    "3. **Sufficiency Threshold**: Agents are considered to have sufficient wealth if their wealth is above a certain threshold. Agents below this threshold will receive donations from altruistic agents.\n",
    "\n",
    "3. **Societal Influence**: Agents are influenced by the majority behavior of their neighbors. An agent adopts the majority norm with a certain probability.\n",
    "\n",
    "4. **Altruistic Wealth Redistribution**: There is a donation pool where **altruistic** agents can donate a fixed proportion of their wealth. This donation pool is distributed equally among all agents whose wealth falls below a sufficiency threshold. This redistribution mechanism simulates social welfare programs.\n",
    "\n",
    "5. **Employment Dynamics**: Agents have an 80% chance of being employed initially. Unemployed agents have a probability of finding a job, while employed agents have a probability of being laid off.\n",
    "\n",
    "6. **Norm Change Probability**: Agents have a probability of changing their norm to the majority norm of their neighbors. Agents also have a probability of changing their norm when they receive donations from altruistic agents.\n",
    "\n",
    "### Model Initialization\n",
    "\n",
    "1. **Initial Wealth**: Each agent is initialized with a predefined amount of wealth. The distribution of this initial wealth can be:\n",
    "   - Equal\n",
    "   - Unequal (exponential distribution)\n",
    "   - Very Unequal (Pareto distribution)\n",
    "\n",
    "\n",
    "2. **Initial Proportion of Altruistic Agents**: A small percentage of agents are altruistic (minority) at the start of the model run. \n",
    "\n",
    "3. **Network Structure**: Two network structures are considered:\n",
    "   - Barabasi-Albert\n",
    "   - Erdos-Renyi\n",
    "\n",
    "\n",
    "#### Literature Insights\n",
    "Existing research offers several insights into how altruism and cooperation evolve within societies:\n",
    "\n",
    "\n",
    "\n"
   ]
  },
  {
   "cell_type": "markdown",
   "metadata": {},
   "source": []
  }
 ],
 "metadata": {
  "language_info": {
   "name": "python"
  }
 },
 "nbformat": 4,
 "nbformat_minor": 2
}
