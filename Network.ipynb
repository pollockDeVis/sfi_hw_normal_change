{
 "cells": [
  {
   "cell_type": "code",
   "execution_count": 1,
   "id": "995cfe01",
   "metadata": {},
   "outputs": [
    {
     "ename": "NameError",
     "evalue": "name 'nx' is not defined",
     "output_type": "error",
     "traceback": [
      "\u001b[0;31m---------------------------------------------------------------------------\u001b[0m",
      "\u001b[0;31mNameError\u001b[0m                                 Traceback (most recent call last)",
      "\u001b[0;32m/var/folders/2k/gl2zft0n43b646yzs175ky_m0000gn/T/ipykernel_183/2904134424.py\u001b[0m in \u001b[0;36m<module>\u001b[0;34m\u001b[0m\n\u001b[1;32m      3\u001b[0m \u001b[0;32mimport\u001b[0m \u001b[0mmatplotlib\u001b[0m\u001b[0;34m.\u001b[0m\u001b[0manimation\u001b[0m \u001b[0;32mas\u001b[0m \u001b[0manimation\u001b[0m\u001b[0;34m\u001b[0m\u001b[0;34m\u001b[0m\u001b[0m\n\u001b[1;32m      4\u001b[0m \u001b[0;34m\u001b[0m\u001b[0m\n\u001b[0;32m----> 5\u001b[0;31m \u001b[0mpos\u001b[0m \u001b[0;34m=\u001b[0m \u001b[0mnx\u001b[0m\u001b[0;34m.\u001b[0m\u001b[0mspring_layout\u001b[0m\u001b[0;34m(\u001b[0m\u001b[0mmodel\u001b[0m\u001b[0;34m.\u001b[0m\u001b[0mG\u001b[0m\u001b[0;34m)\u001b[0m\u001b[0;34m\u001b[0m\u001b[0;34m\u001b[0m\u001b[0m\n\u001b[0m\u001b[1;32m      6\u001b[0m \u001b[0;32mdef\u001b[0m \u001b[0mdraw\u001b[0m\u001b[0;34m(\u001b[0m\u001b[0mi\u001b[0m\u001b[0;34m)\u001b[0m\u001b[0;34m:\u001b[0m\u001b[0;34m\u001b[0m\u001b[0;34m\u001b[0m\u001b[0m\n\u001b[1;32m      7\u001b[0m     \u001b[0mnetworktype\u001b[0m \u001b[0;34m=\u001b[0m \u001b[0;34m'Free Scale'\u001b[0m\u001b[0;34m\u001b[0m\u001b[0;34m\u001b[0m\u001b[0m\n",
      "\u001b[0;31mNameError\u001b[0m: name 'nx' is not defined"
     ]
    }
   ],
   "source": [
    "import numpy as np\n",
    "import matplotlib.pyplot as plt\n",
    "import matplotlib.animation as animation\n",
    "\n",
    "pos = nx.spring_layout(model.G)\n",
    "def draw(i):\n",
    "    networktype = 'Free Scale'\n",
    "    \n",
    "    stepnumber = i*2\n",
    "    d = data.reset_index()\n",
    "    d = d[d['Step'] == stepnumber]\n",
    "    a = 0\n",
    "    for node in model.G.nodes:\n",
    "        if int(d[d['AgentID'] == node]['Norm']) == 0:\n",
    "            model.G.nodes[node]['color'] = 'red'\n",
    "        elif int(d[d['AgentID'] == node]['Norm']) == 1:\n",
    "            model.G.nodes[node]['color'] = 'blue'\n",
    "    node_colors = [model.G.nodes[n]['color'] for n in model.G.nodes()]\n",
    "    plt.legend(loc='right')\n",
    "    \n",
    "    ax.cla()\n",
    "    ax.axis('off')\n",
    "    ax.set_title('Network Type: {}, Step: {}'.format(networktype,stepnumber+1))\n",
    "    nx.draw(model.G, pos, node_color=node_colors, with_labels=False, node_size = 50, width=0.3,alpha=0.8)\n",
    "\n",
    "fig = plt.figure(dpi=150)\n",
    "fig.clf()\n",
    "ax = fig.subplots()\n",
    "draw(0)  # draw the prediction of the first epoch\n",
    "\n",
    "\n",
    "fps = 1\n",
    "ani = animation.FuncAnimation(fig, draw, frames=50, interval=1000/fps)\n",
    "ani.save('change.gif', writer='pillow', fps=fps)\n",
    "plt.show()"
   ]
  },
  {
   "cell_type": "code",
   "execution_count": null,
   "id": "050d58a3",
   "metadata": {},
   "outputs": [],
   "source": []
  }
 ],
 "metadata": {
  "kernelspec": {
   "display_name": "Python 3 (ipykernel)",
   "language": "python",
   "name": "python3"
  },
  "language_info": {
   "codemirror_mode": {
    "name": "ipython",
    "version": 3
   },
   "file_extension": ".py",
   "mimetype": "text/x-python",
   "name": "python",
   "nbconvert_exporter": "python",
   "pygments_lexer": "ipython3",
   "version": "3.9.13"
  }
 },
 "nbformat": 4,
 "nbformat_minor": 5
}
